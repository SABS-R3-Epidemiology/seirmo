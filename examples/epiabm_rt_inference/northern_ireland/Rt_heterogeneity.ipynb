{
 "cells": [
  {
   "cell_type": "code",
   "execution_count": 1,
   "id": "f495a554-2843-4ad8-bba9-0a2632481f56",
   "metadata": {},
   "outputs": [],
   "source": [
    "radius = \"r_1\""
   ]
  },
  {
   "cell_type": "code",
   "execution_count": 2,
   "id": "ea747073-d5cf-4e7c-8f4e-3b29652c8f59",
   "metadata": {},
   "outputs": [],
   "source": [
    "import numpy as np\n",
    "import pandas as pd\n",
    "import scipy.stats\n",
    "import matplotlib.pyplot as plt\n",
    "from statsmodels.discrete.discrete_model import NegativeBinomial\n",
    "import matplotlib as mpl"
   ]
  },
  {
   "cell_type": "code",
   "execution_count": 3,
   "id": "5ab4fb41-e84f-4716-8b70-9bd41622180c",
   "metadata": {},
   "outputs": [],
   "source": [
    "# Reading the file\n",
    "secondary_infections_data = pd.read_csv(f\"NI_outputs/{radius}/secondary_infections_E.csv\", dtype=\"float32\", low_memory=False)\n",
    "# secondary_infections_data = pd.read_csv(\"NI_outputs/r_0_2/secondary_infections.csv\", dtype=\"float32\", low_memory=False)"
   ]
  },
  {
   "cell_type": "code",
   "execution_count": 4,
   "id": "d3382fdd-6644-42d9-9fdb-565de8a3ec27",
   "metadata": {},
   "outputs": [],
   "source": [
    "# Creating an array of all secondary infections\n",
    "secondary_infections_data.dropna()\n",
    "secondary_infections_only = secondary_infections_data.iloc[:, 2:-1].to_numpy()\n",
    "secondary_infections_array = secondary_infections_only.flatten()"
   ]
  },
  {
   "cell_type": "code",
   "execution_count": 5,
   "id": "c6f56738-a9ee-4186-b131-9277b0ed1255",
   "metadata": {},
   "outputs": [
    {
     "name": "stdout",
     "output_type": "stream",
     "text": [
      "Optimization terminated successfully.\n",
      "         Current function value: 1.118142\n",
      "         Iterations: 5\n",
      "         Function evaluations: 12\n",
      "         Gradient evaluations: 12\n"
     ]
    },
    {
     "data": {
      "text/html": [
       "<table class=\"simpletable\">\n",
       "<caption>NegativeBinomial Regression Results</caption>\n",
       "<tr>\n",
       "  <th>Dep. Variable:</th>           <td>y</td>        <th>  No. Observations:  </th>   <td>1833692</td>  \n",
       "</tr>\n",
       "<tr>\n",
       "  <th>Model:</th>           <td>NegativeBinomial</td> <th>  Df Residuals:      </th>   <td>1833691</td>  \n",
       "</tr>\n",
       "<tr>\n",
       "  <th>Method:</th>                 <td>MLE</td>       <th>  Df Model:          </th>   <td>     0</td>   \n",
       "</tr>\n",
       "<tr>\n",
       "  <th>Date:</th>            <td>Mon, 27 Jan 2025</td> <th>  Pseudo R-squ.:     </th>  <td>2.662e-11</td> \n",
       "</tr>\n",
       "<tr>\n",
       "  <th>Time:</th>                <td>14:56:31</td>     <th>  Log-Likelihood:    </th> <td>-2.0503e+06</td>\n",
       "</tr>\n",
       "<tr>\n",
       "  <th>converged:</th>             <td>True</td>       <th>  LL-Null:           </th> <td>-2.0503e+06</td>\n",
       "</tr>\n",
       "<tr>\n",
       "  <th>Covariance Type:</th>     <td>nonrobust</td>    <th>  LLR p-value:       </th>   <td>   nan</td>   \n",
       "</tr>\n",
       "</table>\n",
       "<table class=\"simpletable\">\n",
       "<tr>\n",
       "    <td></td>       <th>coef</th>     <th>std err</th>      <th>z</th>      <th>P>|z|</th>  <th>[0.025</th>    <th>0.975]</th>  \n",
       "</tr>\n",
       "<tr>\n",
       "  <th>const</th> <td>    0.3611</td> <td>    0.002</td> <td>  144.827</td> <td> 0.000</td> <td>    0.356</td> <td>    0.366</td>\n",
       "</tr>\n",
       "<tr>\n",
       "  <th>alpha</th> <td>   10.7043</td> <td>    0.021</td> <td>  521.565</td> <td> 0.000</td> <td>   10.664</td> <td>   10.745</td>\n",
       "</tr>\n",
       "</table>"
      ],
      "text/latex": [
       "\\begin{center}\n",
       "\\begin{tabular}{lclc}\n",
       "\\toprule\n",
       "\\textbf{Dep. Variable:}   &        y         & \\textbf{  No. Observations:  } &   1833692    \\\\\n",
       "\\textbf{Model:}           & NegativeBinomial & \\textbf{  Df Residuals:      } &   1833691    \\\\\n",
       "\\textbf{Method:}          &       MLE        & \\textbf{  Df Model:          } &         0    \\\\\n",
       "\\textbf{Date:}            & Mon, 27 Jan 2025 & \\textbf{  Pseudo R-squ.:     } &  2.662e-11   \\\\\n",
       "\\textbf{Time:}            &     14:56:31     & \\textbf{  Log-Likelihood:    } & -2.0503e+06  \\\\\n",
       "\\textbf{converged:}       &       True       & \\textbf{  LL-Null:           } & -2.0503e+06  \\\\\n",
       "\\textbf{Covariance Type:} &    nonrobust     & \\textbf{  LLR p-value:       } &       nan    \\\\\n",
       "\\bottomrule\n",
       "\\end{tabular}\n",
       "\\begin{tabular}{lcccccc}\n",
       "               & \\textbf{coef} & \\textbf{std err} & \\textbf{z} & \\textbf{P$> |$z$|$} & \\textbf{[0.025} & \\textbf{0.975]}  \\\\\n",
       "\\midrule\n",
       "\\textbf{const} &       0.3611  &        0.002     &   144.827  &         0.000        &        0.356    &        0.366     \\\\\n",
       "\\textbf{alpha} &      10.7043  &        0.021     &   521.565  &         0.000        &       10.664    &       10.745     \\\\\n",
       "\\bottomrule\n",
       "\\end{tabular}\n",
       "%\\caption{NegativeBinomial Regression Results}\n",
       "\\end{center}"
      ],
      "text/plain": [
       "<class 'statsmodels.iolib.summary.Summary'>\n",
       "\"\"\"\n",
       "                     NegativeBinomial Regression Results                      \n",
       "==============================================================================\n",
       "Dep. Variable:                      y   No. Observations:              1833692\n",
       "Model:               NegativeBinomial   Df Residuals:                  1833691\n",
       "Method:                           MLE   Df Model:                            0\n",
       "Date:                Mon, 27 Jan 2025   Pseudo R-squ.:               2.662e-11\n",
       "Time:                        14:56:31   Log-Likelihood:            -2.0503e+06\n",
       "converged:                       True   LL-Null:                   -2.0503e+06\n",
       "Covariance Type:            nonrobust   LLR p-value:                       nan\n",
       "==============================================================================\n",
       "                 coef    std err          z      P>|z|      [0.025      0.975]\n",
       "------------------------------------------------------------------------------\n",
       "const          0.3611      0.002    144.827      0.000       0.356       0.366\n",
       "alpha         10.7043      0.021    521.565      0.000      10.664      10.745\n",
       "==============================================================================\n",
       "\"\"\""
      ]
     },
     "execution_count": 5,
     "metadata": {},
     "output_type": "execute_result"
    }
   ],
   "source": [
    "# Fit using statsmodels\n",
    "data = secondary_infections_array[~np.isnan(secondary_infections_array)]\n",
    "exog = np.ones(len(data))\n",
    "result = NegativeBinomial(data, exog).fit()\n",
    "result.summary()"
   ]
  },
  {
   "cell_type": "code",
   "execution_count": 6,
   "id": "4e17e4f7-1937-4a34-b592-78d1ff11536a",
   "metadata": {},
   "outputs": [
    {
     "name": "stdout",
     "output_type": "stream",
     "text": [
      "Overdispersion: 10.704297930710302\n",
      "Mean: 1.4349487263946974\n",
      "Variance: 23.47593146729474\n"
     ]
    }
   ],
   "source": [
    "# Check that the mean and overdispersion parameter match the values obtained using a simple implementation (code not included here)\n",
    "dispersion_param = result.params[1]\n",
    "print('Overdispersion: {}'.format(dispersion_param))\n",
    "\n",
    "mean_param = np.exp(result.params[0])\n",
    "print('Mean: {}'.format(mean_param))\n",
    "\n",
    "var_param = mean_param + dispersion_param * mean_param**2\n",
    "print('Variance: {}'.format(var_param))"
   ]
  },
  {
   "cell_type": "code",
   "execution_count": 7,
   "id": "d05b25e5-4c90-4429-a91b-8183d0fa4b87",
   "metadata": {},
   "outputs": [],
   "source": [
    "# Parameter conversion and plotting code\n",
    "p_hat = mean_param / var_param\n",
    "n_hat = mean_param ** 2 / (var_param - mean_param)\n",
    "\n",
    "estimated_distribution = scipy.stats.nbinom(n_hat, p_hat)"
   ]
  },
  {
   "cell_type": "code",
   "execution_count": 8,
   "id": "55ab0bd7-c7c9-46a1-9c08-d655233adf79",
   "metadata": {},
   "outputs": [],
   "source": [
    "k = np.arange(10)\n",
    "bar = [list(data).count(ki)/len(data) for ki in k]\n",
    "estimated_distn = estimated_distribution.pmf(k)"
   ]
  },
  {
   "cell_type": "code",
   "execution_count": 12,
   "id": "a205287d-71f1-408b-927f-9f5759baa46d",
   "metadata": {},
   "outputs": [
    {
     "data": {
      "image/png": "[encoded data removed]",
      "text/plain": [
       "<Figure size 750x400 with 1 Axes>"
      ]
     },
     "metadata": {},
     "output_type": "display_data"
    }
   ],
   "source": [
    "mpl.rcParams.update({'font.size': 15})\n",
    "fig, ax = plt.subplots(figsize=(7.5, 4))\n",
    "\n",
    "ax.bar(k, bar, color='k', label='Data')\n",
    "ax.scatter(k, estimated_distn, s=15, marker='D', color='tab:red')\n",
    "ax.plot(k, estimated_distn, color='tab:red', label='Fit')\n",
    "\n",
    "ax.set_xticks(np.arange(0, 15, 5))\n",
    "ax.set_xlabel(\"Number of secondary infections\")\n",
    "ax.set_ylabel('Probability')\n",
    "ax.legend()\n",
    "\n",
    "fig.savefig(f\"NI_outputs/{radius}/heterogeneity_plot.png\", bbox_inches=\"tight\")"
   ]
  }
 ],
 "metadata": {
  "kernelspec": {
   "display_name": "Python 3 (ipykernel)",
   "language": "python",
   "name": "python3"
  },
  "language_info": {
   "codemirror_mode": {
    "name": "ipython",
    "version": 3
   },
   "file_extension": ".py",
   "mimetype": "text/x-python",
   "name": "python",
   "nbconvert_exporter": "python",
   "pygments_lexer": "ipython3",
   "version": "3.12.0"
  }
 },
 "nbformat": 4,
 "nbformat_minor": 5
}
